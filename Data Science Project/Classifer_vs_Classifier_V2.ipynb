version https://git-lfs.github.com/spec/v1
oid sha256:78e9ee142e062521eaa74cfadaf1845a8df4b4b786344c3ff70660851ec0704f
size 5499858
