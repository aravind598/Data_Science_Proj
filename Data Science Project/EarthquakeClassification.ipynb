version https://git-lfs.github.com/spec/v1
oid sha256:88b224e1fea9e2cc35ec8f5b82a112ce5eeaa432854b896ba9051d6ea878b322
size 78896348
